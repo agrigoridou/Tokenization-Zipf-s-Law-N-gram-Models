{
  "nbformat": 4,
  "nbformat_minor": 0,
  "metadata": {
    "colab": {
      "provenance": [],
      "authorship_tag": "ABX9TyPcOPzzINfo/eKEEUJuyu4k",
      "include_colab_link": true
    },
    "kernelspec": {
      "name": "python3",
      "display_name": "Python 3"
    },
    "language_info": {
      "name": "python"
    }
  },
  "cells": [
    {
      "cell_type": "markdown",
      "metadata": {
        "id": "view-in-github",
        "colab_type": "text"
      },
      "source": [
        "<a href=\"https://colab.research.google.com/github/agrigoridou/Tokenization-Zipf-s-Law-N-gram-Models/blob/main/%CE%92_N_gram_Language_Models_.ipynb\" target=\"_parent\"><img src=\"https://colab.research.google.com/assets/colab-badge.svg\" alt=\"Open In Colab\"/></a>"
      ]
    },
    {
      "cell_type": "code",
      "source": [
        "!pip install nltk numpy"
      ],
      "metadata": {
        "colab": {
          "base_uri": "https://localhost:8080/"
        },
        "id": "tVC-5rNfvIoW",
        "outputId": "2bee9ae3-cf16-4a4a-a181-2038ddfd0765"
      },
      "execution_count": 2,
      "outputs": [
        {
          "output_type": "stream",
          "name": "stdout",
          "text": [
            "Requirement already satisfied: nltk in /usr/local/lib/python3.10/dist-packages (3.9.1)\n",
            "Requirement already satisfied: numpy in /usr/local/lib/python3.10/dist-packages (1.26.4)\n",
            "Requirement already satisfied: click in /usr/local/lib/python3.10/dist-packages (from nltk) (8.1.7)\n",
            "Requirement already satisfied: joblib in /usr/local/lib/python3.10/dist-packages (from nltk) (1.4.2)\n",
            "Requirement already satisfied: regex>=2021.8.3 in /usr/local/lib/python3.10/dist-packages (from nltk) (2024.9.11)\n",
            "Requirement already satisfied: tqdm in /usr/local/lib/python3.10/dist-packages (from nltk) (4.66.6)\n"
          ]
        }
      ]
    },
    {
      "cell_type": "markdown",
      "source": [
        "# Προετοιμασία των δεδομένων"
      ],
      "metadata": {
        "id": "7JZvr9Yt10ke"
      }
    },
    {
      "cell_type": "markdown",
      "source": [
        "Πρώτα, θα φορτώσουμε τα δεδομένα και θα προετοιμάσουμε τα αρχεία για την εκπαίδευση και αξιολόγηση:"
      ],
      "metadata": {
        "id": "EG-O6uKM3CLh"
      }
    },
    {
      "cell_type": "code",
      "source": [
        "import nltk\n",
        "from nltk.corpus import treebank\n",
        "from collections import Counter\n",
        "\n",
        "# Φορτώνουμε τα δεδομένα\n",
        "nltk.download('treebank')\n",
        "\n",
        "# Φορτώνουμε τα πρώτα 150 αρχεία για εκπαίδευση και τα υπόλοιπα 49 για αξιολόγηση\n",
        "train_files = treebank.fileids()[:150]\n",
        "test_files = treebank.fileids()[150:]\n",
        "\n",
        "# Λήψη των προτάσεων\n",
        "train_sents = [sent for file in train_files for sent in treebank.sents(file)]\n",
        "test_sents = [sent for file in test_files for sent in treebank.sents(file)]\n"
      ],
      "metadata": {
        "id": "Evyv9O_evXUE",
        "colab": {
          "base_uri": "https://localhost:8080/"
        },
        "outputId": "d5656eb1-d7d1-4355-e762-263c3b4b6bcf"
      },
      "execution_count": 45,
      "outputs": [
        {
          "output_type": "stream",
          "name": "stderr",
          "text": [
            "[nltk_data] Downloading package treebank to /root/nltk_data...\n",
            "[nltk_data]   Package treebank is already up-to-date!\n"
          ]
        }
      ]
    },
    {
      "cell_type": "markdown",
      "source": [
        "# 1: Υπολογισμός perplexity στα κείμενα αξιολόγησης"
      ],
      "metadata": {
        "id": "mxftoeBR18nf"
      }
    },
    {
      "cell_type": "code",
      "source": [
        "def calculate_perplexity(model, sents, n=2):\n",
        "    log_prob = 0\n",
        "    total_ngrams = 0\n",
        "\n",
        "    for sent in sents:\n",
        "        if n == 2:\n",
        "            ngrams_list = bigrams(sent)\n",
        "        elif n == 3:\n",
        "            ngrams_list = trigrams(sent)\n",
        "\n",
        "        for ngram in ngrams_list:\n",
        "            if n == 2:\n",
        "                prob = model.get(ngram, 1e-6)  # Για bigram\n",
        "            elif n == 3:\n",
        "                prob = model.get(ngram, 1e-6)  # Για trigram\n",
        "\n",
        "            log_prob += math.log(prob)\n",
        "            total_ngrams += 1\n",
        "\n",
        "    perplexity = math.exp(-log_prob / total_ngrams)\n",
        "    return perplexity\n"
      ],
      "metadata": {
        "id": "-nNLA8jl1-re"
      },
      "execution_count": 46,
      "outputs": []
    },
    {
      "cell_type": "markdown",
      "source": [
        "## Υπολογισμός perplexity για τα μοντέλα (bigram και trigram)"
      ],
      "metadata": {
        "id": "BVI0zYf66m3r"
      }
    },
    {
      "cell_type": "code",
      "source": [
        "perplexity_bigram_1 = calculate_perplexity(bigram_model_1, test_sents, n=2)\n",
        "perplexity_bigram_2 = calculate_perplexity(bigram_model_2, test_sents, n=2)\n",
        "perplexity_trigram_1 = calculate_perplexity(trigram_model_1, test_sents, n=3)\n",
        "perplexity_trigram_2 = calculate_perplexity(trigram_model_2, test_sents, n=3)\n",
        "\n",
        "print(f\"Perplexity Bigram k=1: {perplexity_bigram_1}\")\n",
        "print(f\"Perplexity Bigram k=0.01: {perplexity_bigram_2}\")\n",
        "print(f\"Perplexity Trigram k=1: {perplexity_trigram_1}\")\n",
        "print(f\"Perplexity Trigram k=0.01: {perplexity_trigram_2}\")"
      ],
      "metadata": {
        "colab": {
          "base_uri": "https://localhost:8080/"
        },
        "id": "6glNy0lz6qOv",
        "outputId": "52a96ea8-1c7a-411a-9473-e56ea0df87da"
      },
      "execution_count": 47,
      "outputs": [
        {
          "output_type": "stream",
          "name": "stdout",
          "text": [
            "Perplexity Bigram k=1: 48383.25849647069\n",
            "Perplexity Bigram k=0.01: 20958.120746457113\n",
            "Perplexity Trigram k=1: 538873.5152463855\n",
            "Perplexity Trigram k=0.01: 320035.6195985542\n"
          ]
        }
      ]
    },
    {
      "cell_type": "markdown",
      "source": [
        "# 2: Μετατροπή όλων των κειμένων σε πεζά"
      ],
      "metadata": {
        "id": "vTp3d_oT2BUm"
      }
    },
    {
      "cell_type": "code",
      "source": [
        "def preprocess_lowercase(sents):\n",
        "    return [[token.lower() for token in sent] for sent in sents]\n"
      ],
      "metadata": {
        "id": "AgU4h6Ng2EQX"
      },
      "execution_count": 48,
      "outputs": []
    },
    {
      "cell_type": "markdown",
      "source": [
        "## Προετοιμασία πεζών δεδομένων"
      ],
      "metadata": {
        "id": "kYB-Agem6zib"
      }
    },
    {
      "cell_type": "code",
      "source": [
        "train_lower = preprocess_lowercase(train_sents)\n",
        "test_lower = preprocess_lowercase(test_sents)"
      ],
      "metadata": {
        "id": "QYKUkpNi61pS"
      },
      "execution_count": 49,
      "outputs": []
    },
    {
      "cell_type": "markdown",
      "source": [
        "## Υπολογισμός perplexity για τα μοντέλα με πεζά γράμματα"
      ],
      "metadata": {
        "id": "v4C3r1dE63sG"
      }
    },
    {
      "cell_type": "code",
      "source": [
        "perplexity_bigram_lower_1 = calculate_perplexity(bigram_model_1, test_lower, n=2)\n",
        "perplexity_bigram_lower_2 = calculate_perplexity(bigram_model_2, test_lower, n=2)\n",
        "perplexity_trigram_lower_1 = calculate_perplexity(trigram_model_1, test_lower, n=3)\n",
        "perplexity_trigram_lower_2 = calculate_perplexity(trigram_model_2, test_lower, n=3)\n",
        "\n",
        "print(f\"Perplexity Bigram (Lowercase) k=1: {perplexity_bigram_lower_1}\")\n",
        "print(f\"Perplexity Bigram (Lowercase) k=0.01: {perplexity_bigram_lower_2}\")\n",
        "print(f\"Perplexity Trigram (Lowercase) k=1: {perplexity_trigram_lower_1}\")\n",
        "print(f\"Perplexity Trigram (Lowercase) k=0.01: {perplexity_trigram_lower_2}\")"
      ],
      "metadata": {
        "colab": {
          "base_uri": "https://localhost:8080/"
        },
        "id": "zVPSfs8f653S",
        "outputId": "d9f1cec4-9c47-404d-9216-ce04e5d04349"
      },
      "execution_count": 50,
      "outputs": [
        {
          "output_type": "stream",
          "name": "stdout",
          "text": [
            "Perplexity Bigram (Lowercase) k=1: 20016.401066044844\n",
            "Perplexity Bigram (Lowercase) k=0.01: 6759.1366038389315\n",
            "Perplexity Trigram (Lowercase) k=1: 390205.9014657962\n",
            "Perplexity Trigram (Lowercase) k=0.01: 179792.22119202127\n"
          ]
        }
      ]
    },
    {
      "cell_type": "markdown",
      "source": [
        "#3: Αντικατάσταση ψηφίων με '#'"
      ],
      "metadata": {
        "id": "uySGK4vIwnQK"
      }
    },
    {
      "cell_type": "code",
      "source": [
        "import re\n",
        "\n",
        "def replace_digits_with_hash(sents):\n",
        "    return [[re.sub(r'\\d', '#', token) for token in sent] for sent in sents]\n"
      ],
      "metadata": {
        "id": "OeNXUtzFwt23"
      },
      "execution_count": 51,
      "outputs": []
    },
    {
      "cell_type": "markdown",
      "source": [
        "## Προετοιμασία δεδομένων με αντικατάσταση ψηφίων"
      ],
      "metadata": {
        "id": "8zNYll_07Fa-"
      }
    },
    {
      "cell_type": "code",
      "source": [
        "train_hash = replace_digits_with_hash(train_sents)\n",
        "test_hash = replace_digits_with_hash(test_sents)"
      ],
      "metadata": {
        "id": "f882XAFH7Il4"
      },
      "execution_count": 52,
      "outputs": []
    },
    {
      "cell_type": "markdown",
      "source": [
        "## Υπολογισμός perplexity για τα μοντέλα με αντικατάσταση ψηφίων"
      ],
      "metadata": {
        "id": "B8Y7fSNL7LkC"
      }
    },
    {
      "cell_type": "code",
      "source": [
        "perplexity_bigram_hash_1 = calculate_perplexity(bigram_model_1, test_hash, n=2)\n",
        "perplexity_bigram_hash_2 = calculate_perplexity(bigram_model_2, test_hash, n=2)\n",
        "perplexity_trigram_hash_1 = calculate_perplexity(trigram_model_1, test_hash, n=3)\n",
        "perplexity_trigram_hash_2 = calculate_perplexity(trigram_model_2, test_hash, n=3)\n",
        "\n",
        "print(f\"Perplexity Bigram (Hash) k=1: {perplexity_bigram_hash_1}\")\n",
        "print(f\"Perplexity Bigram (Hash) k=0.01: {perplexity_bigram_hash_2}\")\n",
        "print(f\"Perplexity Trigram (Hash) k=1: {perplexity_trigram_hash_1}\")\n",
        "print(f\"Perplexity Trigram (Hash) k=0.01: {perplexity_trigram_hash_2}\")"
      ],
      "metadata": {
        "colab": {
          "base_uri": "https://localhost:8080/"
        },
        "id": "iMTJuLbh7N-_",
        "outputId": "9d68d541-46ea-4513-910a-20fc1a262036"
      },
      "execution_count": 53,
      "outputs": [
        {
          "output_type": "stream",
          "name": "stdout",
          "text": [
            "Perplexity Bigram (Hash) k=1: 79285.10986917574\n",
            "Perplexity Bigram (Hash) k=0.01: 39430.24056678657\n",
            "Perplexity Trigram (Hash) k=1: 649137.7630972476\n",
            "Perplexity Trigram (Hash) k=0.01: 446736.02785341314\n"
          ]
        }
      ]
    },
    {
      "cell_type": "markdown",
      "source": [
        "# 4: Δημιουργία νέων προτάσεων"
      ],
      "metadata": {
        "id": "L9YMr61rwzJV"
      }
    },
    {
      "cell_type": "code",
      "source": [
        "def generate_sentence(model, n=2, max_len=20):\n",
        "    sentence = ['<BOS>']\n",
        "    while len(sentence) < max_len:\n",
        "        last_word = sentence[-1]\n",
        "        possible_next_words = {key[1] for key in model if key[0] == last_word}\n",
        "\n",
        "        if not possible_next_words:\n",
        "            break\n",
        "\n",
        "        next_word = random.choices(list(possible_next_words), weights=[model.get((last_word, word), 1e-6) for word in possible_next_words])[0]\n",
        "        sentence.append(next_word)\n",
        "\n",
        "        if next_word == '<EOS>':\n",
        "            break\n",
        "\n",
        "    return sentence"
      ],
      "metadata": {
        "id": "fV57k7q8w3vG"
      },
      "execution_count": 54,
      "outputs": []
    },
    {
      "cell_type": "markdown",
      "source": [
        "## Δημιουργία νέων προτάσεων"
      ],
      "metadata": {
        "id": "c3ySn1i17Tp0"
      }
    },
    {
      "cell_type": "code",
      "source": [
        "new_sentence_1 = generate_sentence(bigram_model_1, n=2)\n",
        "new_sentence_2 = generate_sentence(trigram_model_1, n=3)\n",
        "new_sentence_3 = generate_sentence(bigram_model_2, n=2)\n",
        "\n",
        "print(f\"New Sentence 1: {new_sentence_1}\")\n",
        "print(f\"New Sentence 2: {new_sentence_2}\")\n",
        "print(f\"New Sentence 3: {new_sentence_3}\")"
      ],
      "metadata": {
        "colab": {
          "base_uri": "https://localhost:8080/"
        },
        "id": "KfK9J9rW7U8K",
        "outputId": "fe069728-2c64-4424-e91b-e0f2bdf374b7"
      },
      "execution_count": 55,
      "outputs": [
        {
          "output_type": "stream",
          "name": "stdout",
          "text": [
            "New Sentence 1: ['<BOS>', 'terms', 'were', 'no', 'mechanism', '*ich*-2', 'yesterday', \"'s\", '<UNK>', '<UNK>', 'million', '*u*', 'in', 'an', 'entirely', 'new', 'members', 'of', 'south', 'korea']\n",
            "New Sentence 2: ['<BOS>', 'huge', 'new', 'era', 'when', 'every', 'month', 'urged', 'the', 'daily', 'average', 'forecasts', 'related', 'to', 'position', ',', '65', 'in', 'legal', ',']\n",
            "New Sentence 3: ['<BOS>', '<UNK>', '%', '.', '<EOS>']\n"
          ]
        }
      ]
    },
    {
      "cell_type": "code",
      "source": [],
      "metadata": {
        "id": "2xVM52s47fiq"
      },
      "execution_count": null,
      "outputs": []
    }
  ]
}