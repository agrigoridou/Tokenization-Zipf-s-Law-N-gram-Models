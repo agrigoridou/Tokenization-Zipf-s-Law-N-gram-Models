{
  "nbformat": 4,
  "nbformat_minor": 0,
  "metadata": {
    "colab": {
      "provenance": [],
      "authorship_tag": "ABX9TyN6fHaamDliPRZk1U4ITj1c",
      "include_colab_link": true
    },
    "kernelspec": {
      "name": "python3",
      "display_name": "Python 3"
    },
    "language_info": {
      "name": "python"
    }
  },
  "cells": [
    {
      "cell_type": "markdown",
      "metadata": {
        "id": "view-in-github",
        "colab_type": "text"
      },
      "source": [
        "<a href=\"https://colab.research.google.com/github/agrigoridou/Tokenization-Zipf-s-Law-N-gram-Models/blob/main/%CE%92_N_gram_Language_Models_.ipynb\" target=\"_parent\"><img src=\"https://colab.research.google.com/assets/colab-badge.svg\" alt=\"Open In Colab\"/></a>"
      ]
    },
    {
      "cell_type": "code",
      "source": [
        "!pip install nltk numpy"
      ],
      "metadata": {
        "colab": {
          "base_uri": "https://localhost:8080/"
        },
        "id": "tVC-5rNfvIoW",
        "outputId": "a70030d3-254c-4b01-ffc8-606acf6e8755"
      },
      "execution_count": 2,
      "outputs": [
        {
          "output_type": "stream",
          "name": "stdout",
          "text": [
            "Requirement already satisfied: nltk in /usr/local/lib/python3.10/dist-packages (3.9.1)\n",
            "Requirement already satisfied: numpy in /usr/local/lib/python3.10/dist-packages (1.26.4)\n",
            "Requirement already satisfied: click in /usr/local/lib/python3.10/dist-packages (from nltk) (8.1.7)\n",
            "Requirement already satisfied: joblib in /usr/local/lib/python3.10/dist-packages (from nltk) (1.4.2)\n",
            "Requirement already satisfied: regex>=2021.8.3 in /usr/local/lib/python3.10/dist-packages (from nltk) (2024.9.11)\n",
            "Requirement already satisfied: tqdm in /usr/local/lib/python3.10/dist-packages (from nltk) (4.66.6)\n"
          ]
        }
      ]
    },
    {
      "cell_type": "markdown",
      "source": [
        "# Εισαγωγή βιβλιοθηκών και φόρτωση του Treebank από το NLTK"
      ],
      "metadata": {
        "id": "7JZvr9Yt10ke"
      }
    },
    {
      "cell_type": "code",
      "source": [
        "import nltk\n",
        "from nltk.corpus import treebank\n",
        "from nltk.util import ngrams\n",
        "from nltk.probability import FreqDist\n",
        "from nltk import bigrams, trigrams\n",
        "import numpy as np\n",
        "import math"
      ],
      "metadata": {
        "id": "Evyv9O_evXUE"
      },
      "execution_count": 12,
      "outputs": []
    },
    {
      "cell_type": "markdown",
      "source": [
        "# Λήψη των απαραίτητων δεδομένων από το NLTK"
      ],
      "metadata": {
        "id": "mxftoeBR18nf"
      }
    },
    {
      "cell_type": "code",
      "source": [
        "nltk.download('treebank')\n",
        "nltk.download('punkt')"
      ],
      "metadata": {
        "colab": {
          "base_uri": "https://localhost:8080/"
        },
        "id": "-nNLA8jl1-re",
        "outputId": "dafe90b4-8b74-4522-f00d-ad7b53349b9f"
      },
      "execution_count": 13,
      "outputs": [
        {
          "output_type": "stream",
          "name": "stderr",
          "text": [
            "[nltk_data] Downloading package treebank to /root/nltk_data...\n",
            "[nltk_data]   Package treebank is already up-to-date!\n",
            "[nltk_data] Downloading package punkt to /root/nltk_data...\n",
            "[nltk_data]   Package punkt is already up-to-date!\n"
          ]
        },
        {
          "output_type": "execute_result",
          "data": {
            "text/plain": [
              "True"
            ]
          },
          "metadata": {},
          "execution_count": 13
        }
      ]
    },
    {
      "cell_type": "markdown",
      "source": [
        "# Λήψη των πρώτων 150 κειμένων για εκπαίδευση και των επόμενων 49 για αξιολόγηση"
      ],
      "metadata": {
        "id": "vTp3d_oT2BUm"
      }
    },
    {
      "cell_type": "code",
      "source": [
        "train_files = treebank.fileids()[:150]\n",
        "test_files = treebank.fileids()[150:]"
      ],
      "metadata": {
        "id": "AgU4h6Ng2EQX"
      },
      "execution_count": 14,
      "outputs": []
    },
    {
      "cell_type": "markdown",
      "source": [
        "# Συνάρτηση για την προετοιμασία των δεδομένων με <BOS> και <EOS> tokens"
      ],
      "metadata": {
        "id": "8qJ2hX0e2FIm"
      }
    },
    {
      "cell_type": "code",
      "source": [
        "def preprocess_text(files):\n",
        "    sentences = []\n",
        "    for file in files:\n",
        "        for sent in treebank.sents(file):\n",
        "            sentences.append(['<BOS>'] + sent + ['<EOS>'])\n",
        "    return sentences\n",
        "\n",
        "train_sentences = preprocess_text(train_files)\n",
        "test_sentences = preprocess_text(test_files)"
      ],
      "metadata": {
        "id": "ihqT41XB2KND"
      },
      "execution_count": 15,
      "outputs": []
    },
    {
      "cell_type": "markdown",
      "source": [
        "# Συνάρτηση για αντικατάσταση σπάνιων tokens (< 3 φορές) με <UNK>"
      ],
      "metadata": {
        "id": "l7UZUWtM2NvD"
      }
    },
    {
      "cell_type": "code",
      "source": [
        "def replace_rare_tokens(sentences):\n",
        "    all_tokens = [token for sent in sentences for token in sent]\n",
        "    fdist = FreqDist(all_tokens)\n",
        "\n",
        "    # Εύρεση σπάνιων tokens\n",
        "    rare_tokens = {token for token, count in fdist.items() if count < 3}\n",
        "\n",
        "    # Αντικατάσταση σπάνιων tokens με <UNK>\n",
        "    processed_sentences = []\n",
        "    for sent in sentences:\n",
        "        processed_sentences.append([token if token not in rare_tokens else '<UNK>' for token in sent])\n",
        "\n",
        "    return processed_sentences\n",
        "\n",
        "train_sentences = replace_rare_tokens(train_sentences)\n",
        "test_sentences = replace_rare_tokens(test_sentences)"
      ],
      "metadata": {
        "id": "kCtedV0G2Mtj"
      },
      "execution_count": 16,
      "outputs": []
    },
    {
      "cell_type": "markdown",
      "source": [
        "# Συνάρτηση για υπολογισμό της πιθανότητας Bigram με add-k smoothing"
      ],
      "metadata": {
        "id": "qUy6t2aB2SDU"
      }
    },
    {
      "cell_type": "code",
      "source": [
        "def bigram_probability(bigrams, k):\n",
        "    bigram_fd = FreqDist(bigrams)\n",
        "    unigram_fd = FreqDist([bigram[0] for bigram in bigrams])\n",
        "\n",
        "    vocab_size = len(unigram_fd)\n",
        "\n",
        "    def prob(w1, w2):\n",
        "        count_bigram = bigram_fd[(w1, w2)]\n",
        "        count_unigram = unigram_fd[w1]\n",
        "        return (count_bigram + k) / (count_unigram + k * vocab_size)\n",
        "\n",
        "    return prob"
      ],
      "metadata": {
        "id": "P40aeveU2VvR"
      },
      "execution_count": 17,
      "outputs": []
    },
    {
      "cell_type": "markdown",
      "source": [
        "# Δημιουργία bigrams και υπολογισμός της πιθανότητας με add-k smoothing για k=1 και k=0.01"
      ],
      "metadata": {
        "id": "tH45S2XA2W2S"
      }
    },
    {
      "cell_type": "code",
      "source": [
        "train_bigrams = list(bigrams([token for sent in train_sentences for token in sent]))\n",
        "bigram_model_k1 = bigram_probability(train_bigrams, k=1)\n",
        "bigram_model_k01 = bigram_probability(train_bigrams, k=0.01)"
      ],
      "metadata": {
        "id": "7oOTdV9W2aq4"
      },
      "execution_count": 18,
      "outputs": []
    },
    {
      "cell_type": "markdown",
      "source": [
        "# Συνάρτηση για υπολογισμό της πιθανότητας Trigram με add-k smoothing"
      ],
      "metadata": {
        "id": "cMlONL1o2bpZ"
      }
    },
    {
      "cell_type": "code",
      "source": [
        "def trigram_probability(trigrams, k):\n",
        "    trigram_fd = FreqDist(trigrams)\n",
        "    bigram_fd = FreqDist([bigram[:2] for bigram in trigrams])\n",
        "\n",
        "    vocab_size = len(bigram_fd)\n",
        "\n",
        "    def prob(w1, w2, w3):\n",
        "        count_trigram = trigram_fd[(w1, w2, w3)]\n",
        "        count_bigram = bigram_fd[(w1, w2)]\n",
        "        return (count_trigram + k) / (count_bigram + k * vocab_size)\n",
        "\n",
        "    return prob"
      ],
      "metadata": {
        "id": "VsN9BfF92fIo"
      },
      "execution_count": 19,
      "outputs": []
    },
    {
      "cell_type": "markdown",
      "source": [
        "# Δημιουργία trigrams και υπολογισμός της πιθανότητας με add-k smoothing για k=1 και k=0.01"
      ],
      "metadata": {
        "id": "Or3tUNRW2i8E"
      }
    },
    {
      "cell_type": "code",
      "execution_count": 20,
      "metadata": {
        "id": "MvRSd7HpWv_J"
      },
      "outputs": [],
      "source": [
        "train_trigrams = list(trigrams([token for sent in train_sentences for token in sent]))\n",
        "trigram_model_k1 = trigram_probability(train_trigrams, k=1)\n",
        "trigram_model_k01 = trigram_probability(train_trigrams, k=0.01)"
      ]
    },
    {
      "cell_type": "markdown",
      "source": [
        "# 1. Υπολογισμός του Perplexity για τα bigrams και trigrams με k=1 και k=0.01 για το σύνολο αξιολόγησης"
      ],
      "metadata": {
        "id": "Be-PjXgWvh8s"
      }
    },
    {
      "cell_type": "code",
      "source": [
        "test_bigrams = list(bigrams([token for sent in test_sentences for token in sent]))\n",
        "test_trigrams = list(trigrams([token for sent in test_sentences for token in sent]))\n",
        "\n",
        "def calculate_perplexity(model, ngrams, k=1):\n",
        "    N = len(ngrams)\n",
        "    log_prob_sum = 0\n",
        "    for ngram in ngrams:\n",
        "        if len(ngram) == 2:  # Bigram\n",
        "            w1, w2 = ngram\n",
        "            prob = model(w1, w2)\n",
        "        elif len(ngram) == 3:  # Trigram\n",
        "            w1, w2, w3 = ngram\n",
        "            prob = model(w1, w2, w3)\n",
        "        log_prob_sum += math.log(prob)\n",
        "\n",
        "    perplexity = math.exp(-log_prob_sum / N)\n",
        "    return perplexity\n",
        "\n",
        "perplexity_bigram_k1 = calculate_perplexity(bigram_model_k1, test_bigrams, k=1)\n",
        "perplexity_bigram_k01 = calculate_perplexity(bigram_model_k01, test_bigrams, k=0.01)\n",
        "perplexity_trigram_k1 = calculate_perplexity(trigram_model_k1, test_trigrams, k=1)\n",
        "perplexity_trigram_k01 = calculate_perplexity(trigram_model_k01, test_trigrams, k=0.01)\n",
        "\n",
        "print(\"Perplexity for Bigram (k=1):\", perplexity_bigram_k1)\n",
        "print(\"Perplexity for Bigram (k=0.01):\", perplexity_bigram_k01)\n",
        "print(\"Perplexity for Trigram (k=1):\", perplexity_trigram_k1)\n",
        "print(\"Perplexity for Trigram (k=0.01):\", perplexity_trigram_k01)"
      ],
      "metadata": {
        "colab": {
          "base_uri": "https://localhost:8080/"
        },
        "id": "K7NnI2nF2wXR",
        "outputId": "65925a7e-6ca2-4bd4-8f03-a3696cae1b96"
      },
      "execution_count": 21,
      "outputs": [
        {
          "output_type": "stream",
          "name": "stdout",
          "text": [
            "Perplexity for Bigram (k=1): 248.22110679031928\n",
            "Perplexity for Bigram (k=0.01): 101.11029624213403\n",
            "Perplexity for Trigram (k=1): 8200.760713641386\n",
            "Perplexity for Trigram (k=0.01): 1371.6775932858716\n"
          ]
        }
      ]
    },
    {
      "cell_type": "markdown",
      "source": [
        "# 2. Συνάρτηση για μετατροπή κειμένων σε πεζά γράμματα"
      ],
      "metadata": {
        "id": "yd8ZRBk3vnYq"
      }
    },
    {
      "cell_type": "code",
      "source": [
        "def lowercase_text(sentences):\n",
        "    return [[token.lower() for token in sent] for sent in sentences]\n",
        "\n",
        "train_sentences_lower = lowercase_text(train_sentences)\n",
        "test_sentences_lower = lowercase_text(test_sentences)\n",
        "\n",
        "# Δημιουργία bigrams και trigrams από τα πεζά κείμενα\n",
        "train_bigrams_lower = list(bigrams([token for sent in train_sentences_lower for token in sent]))\n",
        "train_trigrams_lower = list(trigrams([token for sent in train_sentences_lower for token in sent]))\n",
        "\n",
        "# Επαναυπολογισμός perplexity με πεζά γράμματα\n",
        "perplexity_bigram_k1_lower = calculate_perplexity(bigram_model_k1, test_bigrams_lower, k=1)\n",
        "perplexity_bigram_k01_lower = calculate_perplexity(bigram_model_k01, test_bigrams_lower, k=0.01)\n",
        "perplexity_trigram_k1_lower = calculate_perplexity(trigram_model_k1, test_trigrams_lower, k=1)\n",
        "perplexity_trigram_k01_lower = calculate_perplexity(trigram_model_k01, test_trigrams_lower, k=0.01)\n",
        "\n",
        "print(\"Perplexity for Bigram (k=1) with lowercase:\", perplexity_bigram_k1_lower)\n",
        "print(\"Perplexity for Bigram (k=0.01) with lowercase:\", perplexity_bigram_k01_lower)\n",
        "print(\"Perplexity for Trigram (k=1) with lowercase:\", perplexity_trigram_k1_lower)\n",
        "print(\"Perplexity for Trigram (k=0.01) with lowercase:\", perplexity_trigram_k01_lower)\n"
      ],
      "metadata": {
        "colab": {
          "base_uri": "https://localhost:8080/",
          "height": 211
        },
        "id": "5v9Nb27Nuzzs",
        "outputId": "fbc63005-a942-46fa-cc19-9971cf56519a"
      },
      "execution_count": 22,
      "outputs": [
        {
          "output_type": "error",
          "ename": "NameError",
          "evalue": "name 'test_bigrams_lower' is not defined",
          "traceback": [
            "\u001b[0;31m---------------------------------------------------------------------------\u001b[0m",
            "\u001b[0;31mNameError\u001b[0m                                 Traceback (most recent call last)",
            "\u001b[0;32m<ipython-input-22-de3b7def6a51>\u001b[0m in \u001b[0;36m<cell line: 12>\u001b[0;34m()\u001b[0m\n\u001b[1;32m     10\u001b[0m \u001b[0;34m\u001b[0m\u001b[0m\n\u001b[1;32m     11\u001b[0m \u001b[0;31m# Επαναυπολογισμός perplexity με πεζά γράμματα\u001b[0m\u001b[0;34m\u001b[0m\u001b[0;34m\u001b[0m\u001b[0m\n\u001b[0;32m---> 12\u001b[0;31m \u001b[0mperplexity_bigram_k1_lower\u001b[0m \u001b[0;34m=\u001b[0m \u001b[0mcalculate_perplexity\u001b[0m\u001b[0;34m(\u001b[0m\u001b[0mbigram_model_k1\u001b[0m\u001b[0;34m,\u001b[0m \u001b[0mtest_bigrams_lower\u001b[0m\u001b[0;34m,\u001b[0m \u001b[0mk\u001b[0m\u001b[0;34m=\u001b[0m\u001b[0;36m1\u001b[0m\u001b[0;34m)\u001b[0m\u001b[0;34m\u001b[0m\u001b[0;34m\u001b[0m\u001b[0m\n\u001b[0m\u001b[1;32m     13\u001b[0m \u001b[0mperplexity_bigram_k01_lower\u001b[0m \u001b[0;34m=\u001b[0m \u001b[0mcalculate_perplexity\u001b[0m\u001b[0;34m(\u001b[0m\u001b[0mbigram_model_k01\u001b[0m\u001b[0;34m,\u001b[0m \u001b[0mtest_bigrams_lower\u001b[0m\u001b[0;34m,\u001b[0m \u001b[0mk\u001b[0m\u001b[0;34m=\u001b[0m\u001b[0;36m0.01\u001b[0m\u001b[0;34m)\u001b[0m\u001b[0;34m\u001b[0m\u001b[0;34m\u001b[0m\u001b[0m\n\u001b[1;32m     14\u001b[0m \u001b[0mperplexity_trigram_k1_lower\u001b[0m \u001b[0;34m=\u001b[0m \u001b[0mcalculate_perplexity\u001b[0m\u001b[0;34m(\u001b[0m\u001b[0mtrigram_model_k1\u001b[0m\u001b[0;34m,\u001b[0m \u001b[0mtest_trigrams_lower\u001b[0m\u001b[0;34m,\u001b[0m \u001b[0mk\u001b[0m\u001b[0;34m=\u001b[0m\u001b[0;36m1\u001b[0m\u001b[0;34m)\u001b[0m\u001b[0;34m\u001b[0m\u001b[0;34m\u001b[0m\u001b[0m\n",
            "\u001b[0;31mNameError\u001b[0m: name 'test_bigrams_lower' is not defined"
          ]
        }
      ]
    },
    {
      "cell_type": "markdown",
      "source": [
        "# 3. Συνάρτηση για αντικατάσταση αριθμών με το token <NUM>"
      ],
      "metadata": {
        "id": "NlthrRj3v1nU"
      }
    },
    {
      "cell_type": "code",
      "source": [
        "import re\n",
        "\n",
        "def replace_numbers(sentences):\n",
        "    return [[re.sub(r'\\d+', '<NUM>', token) for token in sent] for sent in sentences]\n",
        "\n",
        "train_sentences_no_numbers = replace_numbers(train_sentences)\n",
        "test_sentences_no_numbers = replace_numbers(test_sentences)\n",
        "\n",
        "# Δημιουργία bigrams και trigrams από τα κείμενα χωρίς αριθμούς\n",
        "train_bigrams_no_numbers = list(bigrams([token for sent in train_sentences_no_numbers for token in sent]))\n",
        "train_trigrams_no_numbers = list(trigrams([token for sent in train_sentences_no_numbers for token in sent]))\n",
        "\n",
        "# Επαναυπολογισμός perplexity με αντικατάσταση αριθμών\n",
        "perplexity_bigram_k1_no_numbers = calculate_perplexity(bigram_model_k1, test_bigrams_no_numbers, k=1)\n",
        "perplexity_bigram_k01_no_numbers = calculate_perplexity(bigram_model_k01, test_bigrams_no_numbers, k=0.01)\n",
        "perplexity_trigram_k1_no_numbers = calculate_perplexity(trigram_model_k1, test_trigrams_no_numbers, k=1)\n",
        "perplexity_trigram_k01_no_numbers = calculate_perplexity(trigram_model_k01, test_trigrams_no_numbers, k=0.01)\n",
        "\n",
        "print(\"Perplexity for Bigram (k=1) without numbers:\", perplexity_bigram_k1_no_numbers)\n",
        "print(\"Perplexity for Bigram (k=0.01) without numbers:\", perplexity_bigram_k01_no_numbers)\n",
        "print(\"Perplexity for Trigram (k=1) without numbers:\", perplexity_trigram_k1_no_numbers)\n",
        "print(\"Perplexity for Trigram (k=0.01) without numbers:\", perplexity_trigram_k01_no_numbers)\n"
      ],
      "metadata": {
        "colab": {
          "base_uri": "https://localhost:8080/",
          "height": 211
        },
        "id": "0hOgd8ArvGrf",
        "outputId": "fb4107fa-1fc9-419e-878f-f0841d577360"
      },
      "execution_count": 23,
      "outputs": [
        {
          "output_type": "error",
          "ename": "NameError",
          "evalue": "name 'test_bigrams_no_numbers' is not defined",
          "traceback": [
            "\u001b[0;31m---------------------------------------------------------------------------\u001b[0m",
            "\u001b[0;31mNameError\u001b[0m                                 Traceback (most recent call last)",
            "\u001b[0;32m<ipython-input-23-566be351bd45>\u001b[0m in \u001b[0;36m<cell line: 14>\u001b[0;34m()\u001b[0m\n\u001b[1;32m     12\u001b[0m \u001b[0;34m\u001b[0m\u001b[0m\n\u001b[1;32m     13\u001b[0m \u001b[0;31m# Επαναυπολογισμός perplexity με αντικατάσταση αριθμών\u001b[0m\u001b[0;34m\u001b[0m\u001b[0;34m\u001b[0m\u001b[0m\n\u001b[0;32m---> 14\u001b[0;31m \u001b[0mperplexity_bigram_k1_no_numbers\u001b[0m \u001b[0;34m=\u001b[0m \u001b[0mcalculate_perplexity\u001b[0m\u001b[0;34m(\u001b[0m\u001b[0mbigram_model_k1\u001b[0m\u001b[0;34m,\u001b[0m \u001b[0mtest_bigrams_no_numbers\u001b[0m\u001b[0;34m,\u001b[0m \u001b[0mk\u001b[0m\u001b[0;34m=\u001b[0m\u001b[0;36m1\u001b[0m\u001b[0;34m)\u001b[0m\u001b[0;34m\u001b[0m\u001b[0;34m\u001b[0m\u001b[0m\n\u001b[0m\u001b[1;32m     15\u001b[0m \u001b[0mperplexity_bigram_k01_no_numbers\u001b[0m \u001b[0;34m=\u001b[0m \u001b[0mcalculate_perplexity\u001b[0m\u001b[0;34m(\u001b[0m\u001b[0mbigram_model_k01\u001b[0m\u001b[0;34m,\u001b[0m \u001b[0mtest_bigrams_no_numbers\u001b[0m\u001b[0;34m,\u001b[0m \u001b[0mk\u001b[0m\u001b[0;34m=\u001b[0m\u001b[0;36m0.01\u001b[0m\u001b[0;34m)\u001b[0m\u001b[0;34m\u001b[0m\u001b[0;34m\u001b[0m\u001b[0m\n\u001b[1;32m     16\u001b[0m \u001b[0mperplexity_trigram_k1_no_numbers\u001b[0m \u001b[0;34m=\u001b[0m \u001b[0mcalculate_perplexity\u001b[0m\u001b[0;34m(\u001b[0m\u001b[0mtrigram_model_k1\u001b[0m\u001b[0;34m,\u001b[0m \u001b[0mtest_trigrams_no_numbers\u001b[0m\u001b[0;34m,\u001b[0m \u001b[0mk\u001b[0m\u001b[0;34m=\u001b[0m\u001b[0;36m1\u001b[0m\u001b[0;34m)\u001b[0m\u001b[0;34m\u001b[0m\u001b[0;34m\u001b[0m\u001b[0m\n",
            "\u001b[0;31mNameError\u001b[0m: name 'test_bigrams_no_numbers' is not defined"
          ]
        }
      ]
    },
    {
      "cell_type": "markdown",
      "source": [
        "# 4. Δημιουργία νέων προτάσεων με το καλύτερο μοντέλο"
      ],
      "metadata": {
        "id": "sh1KQEdMv96u"
      }
    },
    {
      "cell_type": "code",
      "source": [
        "def generate_sentence(model, k=1, ngram_type='bigram'):\n",
        "    sentence = ['<BOS>']\n",
        "\n",
        "    while sentence[-1] != '<EOS>' and len(sentence) < 20:\n",
        "        if ngram_type == 'bigram':\n",
        "            next_word = max(set(train_bigrams), key=lambda bigram: model(sentence[-1], bigram[1]))\n",
        "        elif ngram_type == 'trigram':\n",
        "            next_word = max(set(train_trigrams), key=lambda trigram: model(sentence[-2], sentence[-1], trigram[2]))\n",
        "\n",
        "        sentence.append(next_word[1] if ngram_type == 'bigram' else next_word[2])\n",
        "\n",
        "    return ' '.join(sentence[1:])\n",
        "\n",
        "# Δοκιμή γεννήτριας προτάσεων για το καλύτερο μοντέλο (π.χ. Trigram με k=1)\n",
        "generated_sentence = generate_sentence(trigram_model_k1, k=1, ngram_type='trigram')\n",
        "print(\"Generated Sentence:\", generated_sentence)"
      ],
      "metadata": {
        "id": "rqGddPV9v6dn"
      },
      "execution_count": 9,
      "outputs": []
    },
    {
      "cell_type": "code",
      "source": [],
      "metadata": {
        "id": "hDwM2oEHwGnG"
      },
      "execution_count": null,
      "outputs": []
    }
  ]
}