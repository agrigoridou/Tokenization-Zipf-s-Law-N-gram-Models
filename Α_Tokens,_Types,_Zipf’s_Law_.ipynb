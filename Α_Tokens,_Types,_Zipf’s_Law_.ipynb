{
  "nbformat": 4,
  "nbformat_minor": 0,
  "metadata": {
    "colab": {
      "provenance": [],
      "authorship_tag": "ABX9TyOXXyD0+74xbO6JFG7Qcuo3",
      "include_colab_link": true
    },
    "kernelspec": {
      "name": "python3",
      "display_name": "Python 3"
    },
    "language_info": {
      "name": "python"
    }
  },
  "cells": [
    {
      "cell_type": "markdown",
      "metadata": {
        "id": "view-in-github",
        "colab_type": "text"
      },
      "source": [
        "<a href=\"https://colab.research.google.com/github/agrigoridou/Tokenization-Zipf-s-Law-N-gram-Models/blob/main/%CE%91_Tokens%2C_Types%2C_Zipf%E2%80%99s_Law_.ipynb\" target=\"_parent\"><img src=\"https://colab.research.google.com/assets/colab-badge.svg\" alt=\"Open In Colab\"/></a>"
      ]
    },
    {
      "cell_type": "markdown",
      "source": [
        "# Προαπαιτούμενες βιβλιοθήκες"
      ],
      "metadata": {
        "id": "xBOdxjjW_LXG"
      }
    },
    {
      "cell_type": "code",
      "source": [
        "# Εγκατάσταση των βιβλιοθηκών\n",
        "!pip install nltk spacy transformers\n",
        "!python -m spacy download en_core_web_sm\n"
      ],
      "metadata": {
        "id": "RyXZSD1L-9MP",
        "colab": {
          "base_uri": "https://localhost:8080/"
        },
        "outputId": "79eed1ef-633a-4d58-cf9b-b92cc3ea861e"
      },
      "execution_count": null,
      "outputs": [
        {
          "output_type": "stream",
          "name": "stdout",
          "text": [
            "Requirement already satisfied: nltk in /usr/local/lib/python3.10/dist-packages (3.9.1)\n",
            "Requirement already satisfied: spacy in /usr/local/lib/python3.10/dist-packages (3.7.5)\n",
            "Requirement already satisfied: transformers in /usr/local/lib/python3.10/dist-packages (4.46.2)\n",
            "Requirement already satisfied: click in /usr/local/lib/python3.10/dist-packages (from nltk) (8.1.7)\n",
            "Requirement already satisfied: joblib in /usr/local/lib/python3.10/dist-packages (from nltk) (1.4.2)\n",
            "Requirement already satisfied: regex>=2021.8.3 in /usr/local/lib/python3.10/dist-packages (from nltk) (2024.9.11)\n",
            "Requirement already satisfied: tqdm in /usr/local/lib/python3.10/dist-packages (from nltk) (4.66.6)\n",
            "Requirement already satisfied: spacy-legacy<3.1.0,>=3.0.11 in /usr/local/lib/python3.10/dist-packages (from spacy) (3.0.12)\n",
            "Requirement already satisfied: spacy-loggers<2.0.0,>=1.0.0 in /usr/local/lib/python3.10/dist-packages (from spacy) (1.0.5)\n",
            "Requirement already satisfied: murmurhash<1.1.0,>=0.28.0 in /usr/local/lib/python3.10/dist-packages (from spacy) (1.0.10)\n",
            "Requirement already satisfied: cymem<2.1.0,>=2.0.2 in /usr/local/lib/python3.10/dist-packages (from spacy) (2.0.8)\n",
            "Requirement already satisfied: preshed<3.1.0,>=3.0.2 in /usr/local/lib/python3.10/dist-packages (from spacy) (3.0.9)\n",
            "Requirement already satisfied: thinc<8.3.0,>=8.2.2 in /usr/local/lib/python3.10/dist-packages (from spacy) (8.2.5)\n",
            "Requirement already satisfied: wasabi<1.2.0,>=0.9.1 in /usr/local/lib/python3.10/dist-packages (from spacy) (1.1.3)\n",
            "Requirement already satisfied: srsly<3.0.0,>=2.4.3 in /usr/local/lib/python3.10/dist-packages (from spacy) (2.4.8)\n",
            "Requirement already satisfied: catalogue<2.1.0,>=2.0.6 in /usr/local/lib/python3.10/dist-packages (from spacy) (2.0.10)\n",
            "Requirement already satisfied: weasel<0.5.0,>=0.1.0 in /usr/local/lib/python3.10/dist-packages (from spacy) (0.4.1)\n",
            "Requirement already satisfied: typer<1.0.0,>=0.3.0 in /usr/local/lib/python3.10/dist-packages (from spacy) (0.13.0)\n",
            "Requirement already satisfied: requests<3.0.0,>=2.13.0 in /usr/local/lib/python3.10/dist-packages (from spacy) (2.32.3)\n",
            "Requirement already satisfied: pydantic!=1.8,!=1.8.1,<3.0.0,>=1.7.4 in /usr/local/lib/python3.10/dist-packages (from spacy) (2.9.2)\n",
            "Requirement already satisfied: jinja2 in /usr/local/lib/python3.10/dist-packages (from spacy) (3.1.4)\n",
            "Requirement already satisfied: setuptools in /usr/local/lib/python3.10/dist-packages (from spacy) (75.1.0)\n",
            "Requirement already satisfied: packaging>=20.0 in /usr/local/lib/python3.10/dist-packages (from spacy) (24.2)\n",
            "Requirement already satisfied: langcodes<4.0.0,>=3.2.0 in /usr/local/lib/python3.10/dist-packages (from spacy) (3.4.1)\n",
            "Requirement already satisfied: numpy>=1.19.0 in /usr/local/lib/python3.10/dist-packages (from spacy) (1.26.4)\n",
            "Requirement already satisfied: filelock in /usr/local/lib/python3.10/dist-packages (from transformers) (3.16.1)\n",
            "Requirement already satisfied: huggingface-hub<1.0,>=0.23.2 in /usr/local/lib/python3.10/dist-packages (from transformers) (0.26.2)\n",
            "Requirement already satisfied: pyyaml>=5.1 in /usr/local/lib/python3.10/dist-packages (from transformers) (6.0.2)\n",
            "Requirement already satisfied: safetensors>=0.4.1 in /usr/local/lib/python3.10/dist-packages (from transformers) (0.4.5)\n",
            "Requirement already satisfied: tokenizers<0.21,>=0.20 in /usr/local/lib/python3.10/dist-packages (from transformers) (0.20.3)\n",
            "Requirement already satisfied: fsspec>=2023.5.0 in /usr/local/lib/python3.10/dist-packages (from huggingface-hub<1.0,>=0.23.2->transformers) (2024.10.0)\n",
            "Requirement already satisfied: typing-extensions>=3.7.4.3 in /usr/local/lib/python3.10/dist-packages (from huggingface-hub<1.0,>=0.23.2->transformers) (4.12.2)\n",
            "Requirement already satisfied: language-data>=1.2 in /usr/local/lib/python3.10/dist-packages (from langcodes<4.0.0,>=3.2.0->spacy) (1.2.0)\n",
            "Requirement already satisfied: annotated-types>=0.6.0 in /usr/local/lib/python3.10/dist-packages (from pydantic!=1.8,!=1.8.1,<3.0.0,>=1.7.4->spacy) (0.7.0)\n",
            "Requirement already satisfied: pydantic-core==2.23.4 in /usr/local/lib/python3.10/dist-packages (from pydantic!=1.8,!=1.8.1,<3.0.0,>=1.7.4->spacy) (2.23.4)\n",
            "Requirement already satisfied: charset-normalizer<4,>=2 in /usr/local/lib/python3.10/dist-packages (from requests<3.0.0,>=2.13.0->spacy) (3.4.0)\n",
            "Requirement already satisfied: idna<4,>=2.5 in /usr/local/lib/python3.10/dist-packages (from requests<3.0.0,>=2.13.0->spacy) (3.10)\n",
            "Requirement already satisfied: urllib3<3,>=1.21.1 in /usr/local/lib/python3.10/dist-packages (from requests<3.0.0,>=2.13.0->spacy) (2.2.3)\n",
            "Requirement already satisfied: certifi>=2017.4.17 in /usr/local/lib/python3.10/dist-packages (from requests<3.0.0,>=2.13.0->spacy) (2024.8.30)\n",
            "Requirement already satisfied: blis<0.8.0,>=0.7.8 in /usr/local/lib/python3.10/dist-packages (from thinc<8.3.0,>=8.2.2->spacy) (0.7.11)\n",
            "Requirement already satisfied: confection<1.0.0,>=0.0.1 in /usr/local/lib/python3.10/dist-packages (from thinc<8.3.0,>=8.2.2->spacy) (0.1.5)\n",
            "Requirement already satisfied: shellingham>=1.3.0 in /usr/local/lib/python3.10/dist-packages (from typer<1.0.0,>=0.3.0->spacy) (1.5.4)\n",
            "Requirement already satisfied: rich>=10.11.0 in /usr/local/lib/python3.10/dist-packages (from typer<1.0.0,>=0.3.0->spacy) (13.9.4)\n",
            "Requirement already satisfied: cloudpathlib<1.0.0,>=0.7.0 in /usr/local/lib/python3.10/dist-packages (from weasel<0.5.0,>=0.1.0->spacy) (0.20.0)\n",
            "Requirement already satisfied: smart-open<8.0.0,>=5.2.1 in /usr/local/lib/python3.10/dist-packages (from weasel<0.5.0,>=0.1.0->spacy) (7.0.5)\n",
            "Requirement already satisfied: MarkupSafe>=2.0 in /usr/local/lib/python3.10/dist-packages (from jinja2->spacy) (3.0.2)\n",
            "Requirement already satisfied: marisa-trie>=0.7.7 in /usr/local/lib/python3.10/dist-packages (from language-data>=1.2->langcodes<4.0.0,>=3.2.0->spacy) (1.2.1)\n",
            "Requirement already satisfied: markdown-it-py>=2.2.0 in /usr/local/lib/python3.10/dist-packages (from rich>=10.11.0->typer<1.0.0,>=0.3.0->spacy) (3.0.0)\n",
            "Requirement already satisfied: pygments<3.0.0,>=2.13.0 in /usr/local/lib/python3.10/dist-packages (from rich>=10.11.0->typer<1.0.0,>=0.3.0->spacy) (2.18.0)\n",
            "Requirement already satisfied: wrapt in /usr/local/lib/python3.10/dist-packages (from smart-open<8.0.0,>=5.2.1->weasel<0.5.0,>=0.1.0->spacy) (1.16.0)\n",
            "Requirement already satisfied: mdurl~=0.1 in /usr/local/lib/python3.10/dist-packages (from markdown-it-py>=2.2.0->rich>=10.11.0->typer<1.0.0,>=0.3.0->spacy) (0.1.2)\n",
            "Collecting en-core-web-sm==3.7.1\n",
            "  Downloading https://github.com/explosion/spacy-models/releases/download/en_core_web_sm-3.7.1/en_core_web_sm-3.7.1-py3-none-any.whl (12.8 MB)\n",
            "\u001b[2K     \u001b[90m━━━━━━━━━━━━━━━━━━━━━━━━━━━━━━━━━━━━━━━━\u001b[0m \u001b[32m12.8/12.8 MB\u001b[0m \u001b[31m59.4 MB/s\u001b[0m eta \u001b[36m0:00:00\u001b[0m\n",
            "\u001b[?25hRequirement already satisfied: spacy<3.8.0,>=3.7.2 in /usr/local/lib/python3.10/dist-packages (from en-core-web-sm==3.7.1) (3.7.5)\n",
            "Requirement already satisfied: spacy-legacy<3.1.0,>=3.0.11 in /usr/local/lib/python3.10/dist-packages (from spacy<3.8.0,>=3.7.2->en-core-web-sm==3.7.1) (3.0.12)\n",
            "Requirement already satisfied: spacy-loggers<2.0.0,>=1.0.0 in /usr/local/lib/python3.10/dist-packages (from spacy<3.8.0,>=3.7.2->en-core-web-sm==3.7.1) (1.0.5)\n",
            "Requirement already satisfied: murmurhash<1.1.0,>=0.28.0 in /usr/local/lib/python3.10/dist-packages (from spacy<3.8.0,>=3.7.2->en-core-web-sm==3.7.1) (1.0.10)\n",
            "Requirement already satisfied: cymem<2.1.0,>=2.0.2 in /usr/local/lib/python3.10/dist-packages (from spacy<3.8.0,>=3.7.2->en-core-web-sm==3.7.1) (2.0.8)\n",
            "Requirement already satisfied: preshed<3.1.0,>=3.0.2 in /usr/local/lib/python3.10/dist-packages (from spacy<3.8.0,>=3.7.2->en-core-web-sm==3.7.1) (3.0.9)\n",
            "Requirement already satisfied: thinc<8.3.0,>=8.2.2 in /usr/local/lib/python3.10/dist-packages (from spacy<3.8.0,>=3.7.2->en-core-web-sm==3.7.1) (8.2.5)\n",
            "Requirement already satisfied: wasabi<1.2.0,>=0.9.1 in /usr/local/lib/python3.10/dist-packages (from spacy<3.8.0,>=3.7.2->en-core-web-sm==3.7.1) (1.1.3)\n",
            "Requirement already satisfied: srsly<3.0.0,>=2.4.3 in /usr/local/lib/python3.10/dist-packages (from spacy<3.8.0,>=3.7.2->en-core-web-sm==3.7.1) (2.4.8)\n",
            "Requirement already satisfied: catalogue<2.1.0,>=2.0.6 in /usr/local/lib/python3.10/dist-packages (from spacy<3.8.0,>=3.7.2->en-core-web-sm==3.7.1) (2.0.10)\n",
            "Requirement already satisfied: weasel<0.5.0,>=0.1.0 in /usr/local/lib/python3.10/dist-packages (from spacy<3.8.0,>=3.7.2->en-core-web-sm==3.7.1) (0.4.1)\n",
            "Requirement already satisfied: typer<1.0.0,>=0.3.0 in /usr/local/lib/python3.10/dist-packages (from spacy<3.8.0,>=3.7.2->en-core-web-sm==3.7.1) (0.13.0)\n",
            "Requirement already satisfied: tqdm<5.0.0,>=4.38.0 in /usr/local/lib/python3.10/dist-packages (from spacy<3.8.0,>=3.7.2->en-core-web-sm==3.7.1) (4.66.6)\n",
            "Requirement already satisfied: requests<3.0.0,>=2.13.0 in /usr/local/lib/python3.10/dist-packages (from spacy<3.8.0,>=3.7.2->en-core-web-sm==3.7.1) (2.32.3)\n",
            "Requirement already satisfied: pydantic!=1.8,!=1.8.1,<3.0.0,>=1.7.4 in /usr/local/lib/python3.10/dist-packages (from spacy<3.8.0,>=3.7.2->en-core-web-sm==3.7.1) (2.9.2)\n",
            "Requirement already satisfied: jinja2 in /usr/local/lib/python3.10/dist-packages (from spacy<3.8.0,>=3.7.2->en-core-web-sm==3.7.1) (3.1.4)\n",
            "Requirement already satisfied: setuptools in /usr/local/lib/python3.10/dist-packages (from spacy<3.8.0,>=3.7.2->en-core-web-sm==3.7.1) (75.1.0)\n",
            "Requirement already satisfied: packaging>=20.0 in /usr/local/lib/python3.10/dist-packages (from spacy<3.8.0,>=3.7.2->en-core-web-sm==3.7.1) (24.2)\n",
            "Requirement already satisfied: langcodes<4.0.0,>=3.2.0 in /usr/local/lib/python3.10/dist-packages (from spacy<3.8.0,>=3.7.2->en-core-web-sm==3.7.1) (3.4.1)\n",
            "Requirement already satisfied: numpy>=1.19.0 in /usr/local/lib/python3.10/dist-packages (from spacy<3.8.0,>=3.7.2->en-core-web-sm==3.7.1) (1.26.4)\n",
            "Requirement already satisfied: language-data>=1.2 in /usr/local/lib/python3.10/dist-packages (from langcodes<4.0.0,>=3.2.0->spacy<3.8.0,>=3.7.2->en-core-web-sm==3.7.1) (1.2.0)\n",
            "Requirement already satisfied: annotated-types>=0.6.0 in /usr/local/lib/python3.10/dist-packages (from pydantic!=1.8,!=1.8.1,<3.0.0,>=1.7.4->spacy<3.8.0,>=3.7.2->en-core-web-sm==3.7.1) (0.7.0)\n",
            "Requirement already satisfied: pydantic-core==2.23.4 in /usr/local/lib/python3.10/dist-packages (from pydantic!=1.8,!=1.8.1,<3.0.0,>=1.7.4->spacy<3.8.0,>=3.7.2->en-core-web-sm==3.7.1) (2.23.4)\n",
            "Requirement already satisfied: typing-extensions>=4.6.1 in /usr/local/lib/python3.10/dist-packages (from pydantic!=1.8,!=1.8.1,<3.0.0,>=1.7.4->spacy<3.8.0,>=3.7.2->en-core-web-sm==3.7.1) (4.12.2)\n",
            "Requirement already satisfied: charset-normalizer<4,>=2 in /usr/local/lib/python3.10/dist-packages (from requests<3.0.0,>=2.13.0->spacy<3.8.0,>=3.7.2->en-core-web-sm==3.7.1) (3.4.0)\n",
            "Requirement already satisfied: idna<4,>=2.5 in /usr/local/lib/python3.10/dist-packages (from requests<3.0.0,>=2.13.0->spacy<3.8.0,>=3.7.2->en-core-web-sm==3.7.1) (3.10)\n",
            "Requirement already satisfied: urllib3<3,>=1.21.1 in /usr/local/lib/python3.10/dist-packages (from requests<3.0.0,>=2.13.0->spacy<3.8.0,>=3.7.2->en-core-web-sm==3.7.1) (2.2.3)\n",
            "Requirement already satisfied: certifi>=2017.4.17 in /usr/local/lib/python3.10/dist-packages (from requests<3.0.0,>=2.13.0->spacy<3.8.0,>=3.7.2->en-core-web-sm==3.7.1) (2024.8.30)\n",
            "Requirement already satisfied: blis<0.8.0,>=0.7.8 in /usr/local/lib/python3.10/dist-packages (from thinc<8.3.0,>=8.2.2->spacy<3.8.0,>=3.7.2->en-core-web-sm==3.7.1) (0.7.11)\n",
            "Requirement already satisfied: confection<1.0.0,>=0.0.1 in /usr/local/lib/python3.10/dist-packages (from thinc<8.3.0,>=8.2.2->spacy<3.8.0,>=3.7.2->en-core-web-sm==3.7.1) (0.1.5)\n",
            "Requirement already satisfied: click>=8.0.0 in /usr/local/lib/python3.10/dist-packages (from typer<1.0.0,>=0.3.0->spacy<3.8.0,>=3.7.2->en-core-web-sm==3.7.1) (8.1.7)\n",
            "Requirement already satisfied: shellingham>=1.3.0 in /usr/local/lib/python3.10/dist-packages (from typer<1.0.0,>=0.3.0->spacy<3.8.0,>=3.7.2->en-core-web-sm==3.7.1) (1.5.4)\n",
            "Requirement already satisfied: rich>=10.11.0 in /usr/local/lib/python3.10/dist-packages (from typer<1.0.0,>=0.3.0->spacy<3.8.0,>=3.7.2->en-core-web-sm==3.7.1) (13.9.4)\n",
            "Requirement already satisfied: cloudpathlib<1.0.0,>=0.7.0 in /usr/local/lib/python3.10/dist-packages (from weasel<0.5.0,>=0.1.0->spacy<3.8.0,>=3.7.2->en-core-web-sm==3.7.1) (0.20.0)\n",
            "Requirement already satisfied: smart-open<8.0.0,>=5.2.1 in /usr/local/lib/python3.10/dist-packages (from weasel<0.5.0,>=0.1.0->spacy<3.8.0,>=3.7.2->en-core-web-sm==3.7.1) (7.0.5)\n",
            "Requirement already satisfied: MarkupSafe>=2.0 in /usr/local/lib/python3.10/dist-packages (from jinja2->spacy<3.8.0,>=3.7.2->en-core-web-sm==3.7.1) (3.0.2)\n",
            "Requirement already satisfied: marisa-trie>=0.7.7 in /usr/local/lib/python3.10/dist-packages (from language-data>=1.2->langcodes<4.0.0,>=3.2.0->spacy<3.8.0,>=3.7.2->en-core-web-sm==3.7.1) (1.2.1)\n",
            "Requirement already satisfied: markdown-it-py>=2.2.0 in /usr/local/lib/python3.10/dist-packages (from rich>=10.11.0->typer<1.0.0,>=0.3.0->spacy<3.8.0,>=3.7.2->en-core-web-sm==3.7.1) (3.0.0)\n",
            "Requirement already satisfied: pygments<3.0.0,>=2.13.0 in /usr/local/lib/python3.10/dist-packages (from rich>=10.11.0->typer<1.0.0,>=0.3.0->spacy<3.8.0,>=3.7.2->en-core-web-sm==3.7.1) (2.18.0)\n",
            "Requirement already satisfied: wrapt in /usr/local/lib/python3.10/dist-packages (from smart-open<8.0.0,>=5.2.1->weasel<0.5.0,>=0.1.0->spacy<3.8.0,>=3.7.2->en-core-web-sm==3.7.1) (1.16.0)\n",
            "Requirement already satisfied: mdurl~=0.1 in /usr/local/lib/python3.10/dist-packages (from markdown-it-py>=2.2.0->rich>=10.11.0->typer<1.0.0,>=0.3.0->spacy<3.8.0,>=3.7.2->en-core-web-sm==3.7.1) (0.1.2)\n",
            "\u001b[38;5;2m✔ Download and installation successful\u001b[0m\n",
            "You can now load the package via spacy.load('en_core_web_sm')\n",
            "\u001b[38;5;3m⚠ Restart to reload dependencies\u001b[0m\n",
            "If you are in a Jupyter or Colab notebook, you may need to restart Python in\n",
            "order to load all the package's dependencies. You can do this by selecting the\n",
            "'Restart kernel' or 'Restart runtime' option.\n"
          ]
        }
      ]
    },
    {
      "cell_type": "markdown",
      "source": [
        "# Φόρτωση του αρχείου"
      ],
      "metadata": {
        "id": "3RIWfJlN_EF4"
      }
    },
    {
      "cell_type": "code",
      "source": [
        "from google.colab import drive\n",
        "drive.mount('/content/drive')\n"
      ],
      "metadata": {
        "colab": {
          "base_uri": "https://localhost:8080/"
        },
        "id": "8nDsImQyL66W",
        "outputId": "97a2397c-d84e-4e56-bfb0-b6019f0d2811"
      },
      "execution_count": 41,
      "outputs": [
        {
          "output_type": "stream",
          "name": "stdout",
          "text": [
            "Drive already mounted at /content/drive; to attempt to forcibly remount, call drive.mount(\"/content/drive\", force_remount=True).\n"
          ]
        }
      ]
    },
    {
      "cell_type": "code",
      "source": [
        "with open(\"/content/drive/MyDrive/Tokenization-Zipf-s-Law-N-gram-Models/wsj_untokenized.txt\", \"r\") as file:\n",
        "    text = file.read()\n"
      ],
      "metadata": {
        "id": "aJ8m0oSD_G9m"
      },
      "execution_count": 42,
      "outputs": []
    },
    {
      "cell_type": "code",
      "source": [
        "# Ελέγχουμε αν το κείμενο διαβάζεται σωστά\n",
        "print(f\"Κείμενο από το αρχείο:\\n{text[:500]}...\")  # Εκτύπωση πρώτων 500 χαρακτήρων για έλεγχο\n"
      ],
      "metadata": {
        "colab": {
          "base_uri": "https://localhost:8080/"
        },
        "id": "358GmirxTm0w",
        "outputId": "b04e3ede-9c32-43bb-cf23-0f6ac9c036d9"
      },
      "execution_count": 43,
      "outputs": [
        {
          "output_type": "stream",
          "name": "stdout",
          "text": [
            "Κείμενο από το αρχείο:\n",
            " Pierre Vinken, 61 years old, will join the board as a nonexecutive director Nov. 29. Mr. Vinken is chairman of Elsevier N.V., the Dutch publishing group. Rudolph Agnew, 55 years old and former chairman of Consolidated Gold Fields PLC, was named a nonexecutive director of this British industrial conglomerate. A form of asbestos once used to make Kent cigarette filters has caused a high percentage of cancer deaths among a group of workers exposed to it more than 30 years ago, researchers reported...\n"
          ]
        }
      ]
    },
    {
      "cell_type": "code",
      "source": [
        "#e.x\n",
        "text = \"to be or not to be\""
      ],
      "metadata": {
        "id": "x8XdUF3vSxHq"
      },
      "execution_count": null,
      "outputs": []
    },
    {
      "cell_type": "markdown",
      "source": [
        "# Tokenization με NLTK, spaCy και HuggingFace"
      ],
      "metadata": {
        "id": "oO4k2YoG_RR2"
      }
    },
    {
      "cell_type": "markdown",
      "source": [
        "## NLTK Tokenization"
      ],
      "metadata": {
        "id": "hrKpfBbf_TeV"
      }
    },
    {
      "cell_type": "markdown",
      "source": [
        "Χρήση του nltk.word_tokenize() από το NLTK"
      ],
      "metadata": {
        "id": "xEZK7AFqM-sY"
      }
    },
    {
      "cell_type": "code",
      "source": [
        "import nltk\n",
        "nltk.download('punkt_tab')\n",
        "\n",
        "\n",
        "from nltk.tokenize import word_tokenize\n",
        "\n",
        "# Tokenization με NLTK\n",
        "tokens_nltk = word_tokenize(text)\n",
        "types_nltk = set(tokens_nltk)\n"
      ],
      "metadata": {
        "id": "UhBOHBMC_VvR",
        "colab": {
          "base_uri": "https://localhost:8080/"
        },
        "outputId": "7ac7b82e-96dc-48a2-e23b-cf3654131e4b"
      },
      "execution_count": 44,
      "outputs": [
        {
          "output_type": "stream",
          "name": "stderr",
          "text": [
            "[nltk_data] Downloading package punkt_tab to /root/nltk_data...\n",
            "[nltk_data]   Package punkt_tab is already up-to-date!\n"
          ]
        }
      ]
    },
    {
      "cell_type": "markdown",
      "source": [
        "Στο παραπάνω παράδειγμα, πρώτα κατεβάζουμε το απαραίτητο πακέτο 'punkt' από το NLTK, και στη συνέχεια εφαρμόζουμε το word_tokenize για τον τεμαχισμό του κειμένου. Το αποτέλεσμα αποθηκεύεται στον πίνακα tokens_nltk, ενώ τα μοναδικά tokens αποθηκεύονται στο types_nltk."
      ],
      "metadata": {
        "id": "nm20IGrzNVhc"
      }
    },
    {
      "cell_type": "markdown",
      "source": [
        "## spaCy Tokenization"
      ],
      "metadata": {
        "id": "cq2rF-x3_ZIW"
      }
    },
    {
      "cell_type": "markdown",
      "source": [
        "Χρήση του en_core_web_sm μοντέλου από το spaCy"
      ],
      "metadata": {
        "id": "4xjR3W0ZNZ-s"
      }
    },
    {
      "cell_type": "code",
      "source": [
        "import spacy\n",
        "\n",
        "# Φόρτωμα του spaCy μοντέλου\n",
        "nlp = spacy.load(\"en_core_web_sm\")\n",
        "\n",
        "# Tokenization με spaCy\n",
        "doc = nlp(text)\n",
        "tokens_spacy = [token.text for token in doc]\n",
        "types_spacy = set(tokens_spacy)\n"
      ],
      "metadata": {
        "id": "vidA4R7D_cRl"
      },
      "execution_count": 45,
      "outputs": []
    },
    {
      "cell_type": "markdown",
      "source": [
        "Σε αυτή τη μέθοδο, φορτώνουμε το μοντέλο και στη συνέχεια δημιουργούμε το αντικείμενο doc, το οποίο περιέχει τα tokens του κειμένου. Ο τεμαχισμός γίνεται μέσω της αναλυτικής λειτουργίας του spaCy."
      ],
      "metadata": {
        "id": "QIR7WXVUNcwT"
      }
    },
    {
      "cell_type": "markdown",
      "source": [
        "## BERT Tokenization"
      ],
      "metadata": {
        "id": "erP8tQb3_9S1"
      }
    },
    {
      "cell_type": "markdown",
      "source": [
        "Χρήση του BertTokenizer από το HuggingFace"
      ],
      "metadata": {
        "id": "jShY7jMvNfJD"
      }
    },
    {
      "cell_type": "code",
      "source": [
        "from transformers import BertTokenizer\n",
        "\n",
        "# Φόρτωμα του BERT Tokenizer\n",
        "tokenizer = BertTokenizer.from_pretrained('bert-base-cased')\n",
        "\n",
        "# Tokenization με HuggingFace BERT\n",
        "tokens_bert = tokenizer.tokenize(text)\n",
        "types_bert = set(tokens_bert)\n"
      ],
      "metadata": {
        "id": "AhA-sfvK_8Wu"
      },
      "execution_count": 46,
      "outputs": []
    },
    {
      "cell_type": "markdown",
      "source": [
        "Ο BertTokenizer δημιουργεί tokens χρησιμοποιώντας το λεξιλόγιο του BERT και τη μέθοδο byte-pair encoding (BPE), η οποία επιτρέπει τον τεμαχισμό σε υπολέξεις."
      ],
      "metadata": {
        "id": "0IYyOnmDAd81"
      }
    },
    {
      "cell_type": "markdown",
      "source": [
        "# 1. Πίνακες με Tokens και Types\n"
      ],
      "metadata": {
        "id": "2wNWNpAIA8-4"
      }
    },
    {
      "cell_type": "code",
      "source": [
        "import math\n",
        "import pandas as pd\n",
        "\n",
        "# Δημιουργία πίνακα με τα αποτελέσματα\n",
        "data = {\n",
        "    'Method': ['NLTK', 'spaCy', 'BERT'],\n",
        "    'Tokens Count': [len(tokens_nltk), len(tokens_spacy), len(tokens_bert)],\n",
        "    'Types Count': [len(types_nltk), len(types_spacy), len(types_bert)],\n",
        "}\n",
        "\n",
        "df = pd.DataFrame(data)\n",
        "df\n"
      ],
      "metadata": {
        "id": "BHs46zk9BAti",
        "colab": {
          "base_uri": "https://localhost:8080/",
          "height": 143
        },
        "outputId": "405ea6b2-2b80-4f7a-9655-6f67bb8cc27e"
      },
      "execution_count": 47,
      "outputs": [
        {
          "output_type": "execute_result",
          "data": {
            "text/plain": [
              "  Method  Tokens Count  Types Count\n",
              "0   NLTK         93530        12000\n",
              "1  spaCy         95894        11477\n",
              "2   BERT        112325        10266"
            ],
            "text/html": [
              "\n",
              "  <div id=\"df-e727e001-c7ec-45da-89cc-6ce66c6b86e9\" class=\"colab-df-container\">\n",
              "    <div>\n",
              "<style scoped>\n",
              "    .dataframe tbody tr th:only-of-type {\n",
              "        vertical-align: middle;\n",
              "    }\n",
              "\n",
              "    .dataframe tbody tr th {\n",
              "        vertical-align: top;\n",
              "    }\n",
              "\n",
              "    .dataframe thead th {\n",
              "        text-align: right;\n",
              "    }\n",
              "</style>\n",
              "<table border=\"1\" class=\"dataframe\">\n",
              "  <thead>\n",
              "    <tr style=\"text-align: right;\">\n",
              "      <th></th>\n",
              "      <th>Method</th>\n",
              "      <th>Tokens Count</th>\n",
              "      <th>Types Count</th>\n",
              "    </tr>\n",
              "  </thead>\n",
              "  <tbody>\n",
              "    <tr>\n",
              "      <th>0</th>\n",
              "      <td>NLTK</td>\n",
              "      <td>93530</td>\n",
              "      <td>12000</td>\n",
              "    </tr>\n",
              "    <tr>\n",
              "      <th>1</th>\n",
              "      <td>spaCy</td>\n",
              "      <td>95894</td>\n",
              "      <td>11477</td>\n",
              "    </tr>\n",
              "    <tr>\n",
              "      <th>2</th>\n",
              "      <td>BERT</td>\n",
              "      <td>112325</td>\n",
              "      <td>10266</td>\n",
              "    </tr>\n",
              "  </tbody>\n",
              "</table>\n",
              "</div>\n",
              "    <div class=\"colab-df-buttons\">\n",
              "\n",
              "  <div class=\"colab-df-container\">\n",
              "    <button class=\"colab-df-convert\" onclick=\"convertToInteractive('df-e727e001-c7ec-45da-89cc-6ce66c6b86e9')\"\n",
              "            title=\"Convert this dataframe to an interactive table.\"\n",
              "            style=\"display:none;\">\n",
              "\n",
              "  <svg xmlns=\"http://www.w3.org/2000/svg\" height=\"24px\" viewBox=\"0 -960 960 960\">\n",
              "    <path d=\"M120-120v-720h720v720H120Zm60-500h600v-160H180v160Zm220 220h160v-160H400v160Zm0 220h160v-160H400v160ZM180-400h160v-160H180v160Zm440 0h160v-160H620v160ZM180-180h160v-160H180v160Zm440 0h160v-160H620v160Z\"/>\n",
              "  </svg>\n",
              "    </button>\n",
              "\n",
              "  <style>\n",
              "    .colab-df-container {\n",
              "      display:flex;\n",
              "      gap: 12px;\n",
              "    }\n",
              "\n",
              "    .colab-df-convert {\n",
              "      background-color: #E8F0FE;\n",
              "      border: none;\n",
              "      border-radius: 50%;\n",
              "      cursor: pointer;\n",
              "      display: none;\n",
              "      fill: #1967D2;\n",
              "      height: 32px;\n",
              "      padding: 0 0 0 0;\n",
              "      width: 32px;\n",
              "    }\n",
              "\n",
              "    .colab-df-convert:hover {\n",
              "      background-color: #E2EBFA;\n",
              "      box-shadow: 0px 1px 2px rgba(60, 64, 67, 0.3), 0px 1px 3px 1px rgba(60, 64, 67, 0.15);\n",
              "      fill: #174EA6;\n",
              "    }\n",
              "\n",
              "    .colab-df-buttons div {\n",
              "      margin-bottom: 4px;\n",
              "    }\n",
              "\n",
              "    [theme=dark] .colab-df-convert {\n",
              "      background-color: #3B4455;\n",
              "      fill: #D2E3FC;\n",
              "    }\n",
              "\n",
              "    [theme=dark] .colab-df-convert:hover {\n",
              "      background-color: #434B5C;\n",
              "      box-shadow: 0px 1px 3px 1px rgba(0, 0, 0, 0.15);\n",
              "      filter: drop-shadow(0px 1px 2px rgba(0, 0, 0, 0.3));\n",
              "      fill: #FFFFFF;\n",
              "    }\n",
              "  </style>\n",
              "\n",
              "    <script>\n",
              "      const buttonEl =\n",
              "        document.querySelector('#df-e727e001-c7ec-45da-89cc-6ce66c6b86e9 button.colab-df-convert');\n",
              "      buttonEl.style.display =\n",
              "        google.colab.kernel.accessAllowed ? 'block' : 'none';\n",
              "\n",
              "      async function convertToInteractive(key) {\n",
              "        const element = document.querySelector('#df-e727e001-c7ec-45da-89cc-6ce66c6b86e9');\n",
              "        const dataTable =\n",
              "          await google.colab.kernel.invokeFunction('convertToInteractive',\n",
              "                                                    [key], {});\n",
              "        if (!dataTable) return;\n",
              "\n",
              "        const docLinkHtml = 'Like what you see? Visit the ' +\n",
              "          '<a target=\"_blank\" href=https://colab.research.google.com/notebooks/data_table.ipynb>data table notebook</a>'\n",
              "          + ' to learn more about interactive tables.';\n",
              "        element.innerHTML = '';\n",
              "        dataTable['output_type'] = 'display_data';\n",
              "        await google.colab.output.renderOutput(dataTable, element);\n",
              "        const docLink = document.createElement('div');\n",
              "        docLink.innerHTML = docLinkHtml;\n",
              "        element.appendChild(docLink);\n",
              "      }\n",
              "    </script>\n",
              "  </div>\n",
              "\n",
              "\n",
              "<div id=\"df-225ec53b-9d07-4e83-acde-e794b8f8a4bf\">\n",
              "  <button class=\"colab-df-quickchart\" onclick=\"quickchart('df-225ec53b-9d07-4e83-acde-e794b8f8a4bf')\"\n",
              "            title=\"Suggest charts\"\n",
              "            style=\"display:none;\">\n",
              "\n",
              "<svg xmlns=\"http://www.w3.org/2000/svg\" height=\"24px\"viewBox=\"0 0 24 24\"\n",
              "     width=\"24px\">\n",
              "    <g>\n",
              "        <path d=\"M19 3H5c-1.1 0-2 .9-2 2v14c0 1.1.9 2 2 2h14c1.1 0 2-.9 2-2V5c0-1.1-.9-2-2-2zM9 17H7v-7h2v7zm4 0h-2V7h2v10zm4 0h-2v-4h2v4z\"/>\n",
              "    </g>\n",
              "</svg>\n",
              "  </button>\n",
              "\n",
              "<style>\n",
              "  .colab-df-quickchart {\n",
              "      --bg-color: #E8F0FE;\n",
              "      --fill-color: #1967D2;\n",
              "      --hover-bg-color: #E2EBFA;\n",
              "      --hover-fill-color: #174EA6;\n",
              "      --disabled-fill-color: #AAA;\n",
              "      --disabled-bg-color: #DDD;\n",
              "  }\n",
              "\n",
              "  [theme=dark] .colab-df-quickchart {\n",
              "      --bg-color: #3B4455;\n",
              "      --fill-color: #D2E3FC;\n",
              "      --hover-bg-color: #434B5C;\n",
              "      --hover-fill-color: #FFFFFF;\n",
              "      --disabled-bg-color: #3B4455;\n",
              "      --disabled-fill-color: #666;\n",
              "  }\n",
              "\n",
              "  .colab-df-quickchart {\n",
              "    background-color: var(--bg-color);\n",
              "    border: none;\n",
              "    border-radius: 50%;\n",
              "    cursor: pointer;\n",
              "    display: none;\n",
              "    fill: var(--fill-color);\n",
              "    height: 32px;\n",
              "    padding: 0;\n",
              "    width: 32px;\n",
              "  }\n",
              "\n",
              "  .colab-df-quickchart:hover {\n",
              "    background-color: var(--hover-bg-color);\n",
              "    box-shadow: 0 1px 2px rgba(60, 64, 67, 0.3), 0 1px 3px 1px rgba(60, 64, 67, 0.15);\n",
              "    fill: var(--button-hover-fill-color);\n",
              "  }\n",
              "\n",
              "  .colab-df-quickchart-complete:disabled,\n",
              "  .colab-df-quickchart-complete:disabled:hover {\n",
              "    background-color: var(--disabled-bg-color);\n",
              "    fill: var(--disabled-fill-color);\n",
              "    box-shadow: none;\n",
              "  }\n",
              "\n",
              "  .colab-df-spinner {\n",
              "    border: 2px solid var(--fill-color);\n",
              "    border-color: transparent;\n",
              "    border-bottom-color: var(--fill-color);\n",
              "    animation:\n",
              "      spin 1s steps(1) infinite;\n",
              "  }\n",
              "\n",
              "  @keyframes spin {\n",
              "    0% {\n",
              "      border-color: transparent;\n",
              "      border-bottom-color: var(--fill-color);\n",
              "      border-left-color: var(--fill-color);\n",
              "    }\n",
              "    20% {\n",
              "      border-color: transparent;\n",
              "      border-left-color: var(--fill-color);\n",
              "      border-top-color: var(--fill-color);\n",
              "    }\n",
              "    30% {\n",
              "      border-color: transparent;\n",
              "      border-left-color: var(--fill-color);\n",
              "      border-top-color: var(--fill-color);\n",
              "      border-right-color: var(--fill-color);\n",
              "    }\n",
              "    40% {\n",
              "      border-color: transparent;\n",
              "      border-right-color: var(--fill-color);\n",
              "      border-top-color: var(--fill-color);\n",
              "    }\n",
              "    60% {\n",
              "      border-color: transparent;\n",
              "      border-right-color: var(--fill-color);\n",
              "    }\n",
              "    80% {\n",
              "      border-color: transparent;\n",
              "      border-right-color: var(--fill-color);\n",
              "      border-bottom-color: var(--fill-color);\n",
              "    }\n",
              "    90% {\n",
              "      border-color: transparent;\n",
              "      border-bottom-color: var(--fill-color);\n",
              "    }\n",
              "  }\n",
              "</style>\n",
              "\n",
              "  <script>\n",
              "    async function quickchart(key) {\n",
              "      const quickchartButtonEl =\n",
              "        document.querySelector('#' + key + ' button');\n",
              "      quickchartButtonEl.disabled = true;  // To prevent multiple clicks.\n",
              "      quickchartButtonEl.classList.add('colab-df-spinner');\n",
              "      try {\n",
              "        const charts = await google.colab.kernel.invokeFunction(\n",
              "            'suggestCharts', [key], {});\n",
              "      } catch (error) {\n",
              "        console.error('Error during call to suggestCharts:', error);\n",
              "      }\n",
              "      quickchartButtonEl.classList.remove('colab-df-spinner');\n",
              "      quickchartButtonEl.classList.add('colab-df-quickchart-complete');\n",
              "    }\n",
              "    (() => {\n",
              "      let quickchartButtonEl =\n",
              "        document.querySelector('#df-225ec53b-9d07-4e83-acde-e794b8f8a4bf button');\n",
              "      quickchartButtonEl.style.display =\n",
              "        google.colab.kernel.accessAllowed ? 'block' : 'none';\n",
              "    })();\n",
              "  </script>\n",
              "</div>\n",
              "    </div>\n",
              "  </div>\n"
            ],
            "application/vnd.google.colaboratory.intrinsic+json": {
              "type": "dataframe",
              "variable_name": "df",
              "summary": "{\n  \"name\": \"df\",\n  \"rows\": 3,\n  \"fields\": [\n    {\n      \"column\": \"Method\",\n      \"properties\": {\n        \"dtype\": \"string\",\n        \"num_unique_values\": 3,\n        \"samples\": [\n          \"NLTK\",\n          \"spaCy\",\n          \"BERT\"\n        ],\n        \"semantic_type\": \"\",\n        \"description\": \"\"\n      }\n    },\n    {\n      \"column\": \"Tokens Count\",\n      \"properties\": {\n        \"dtype\": \"number\",\n        \"std\": 10237,\n        \"min\": 93530,\n        \"max\": 112325,\n        \"num_unique_values\": 3,\n        \"samples\": [\n          93530,\n          95894,\n          112325\n        ],\n        \"semantic_type\": \"\",\n        \"description\": \"\"\n      }\n    },\n    {\n      \"column\": \"Types Count\",\n      \"properties\": {\n        \"dtype\": \"number\",\n        \"std\": 889,\n        \"min\": 10266,\n        \"max\": 12000,\n        \"num_unique_values\": 3,\n        \"samples\": [\n          12000,\n          11477,\n          10266\n        ],\n        \"semantic_type\": \"\",\n        \"description\": \"\"\n      }\n    }\n  ]\n}"
            }
          },
          "metadata": {},
          "execution_count": 47
        }
      ]
    },
    {
      "cell_type": "markdown",
      "source": [
        "Αυτός ο πίνακας μας δείχνει το πλήθος των tokens και types που παράγονται από κάθε μέθοδο. Τα αποτελέσματα αυτά είναι χρήσιμα για να κατανοήσουμε τη διαφορά στις μεθόδους tokenization, ειδικά όσον αφορά το πλήθος των μοναδικών tokens (types)."
      ],
      "metadata": {
        "id": "A1csG0exNsGw"
      }
    },
    {
      "cell_type": "markdown",
      "source": [
        "# 2. Τυχαία πρόταση και τα Tokens"
      ],
      "metadata": {
        "id": "kBuUH7u7ABVY"
      }
    },
    {
      "cell_type": "markdown",
      "source": [
        "Επιλέγουμε μία τυχαία πρόταση με τουλάχιστον 10 tokens και παραθέτουμε τα tokens για κάθε μέθοδο tokenization."
      ],
      "metadata": {
        "id": "dbKI2W20Nuiw"
      }
    },
    {
      "cell_type": "code",
      "source": [
        "import random\n",
        "\n",
        "# Επιλογή τυχαίας πρότασης\n",
        "sentences = text.split('.')\n",
        "random_sentence = random.choice([s for s in sentences if len(s.split()) >= 10])\n",
        "\n",
        "# Tokenization της τυχαίας πρότασης με τις τρεις μεθόδους\n",
        "tokens_random_nltk = word_tokenize(random_sentence)\n",
        "tokens_random_spacy = [token.text for token in nlp(random_sentence)]\n",
        "tokens_random_bert = tokenizer.tokenize(random_sentence)\n",
        "\n",
        "random_sentence, tokens_random_nltk, tokens_random_spacy, tokens_random_bert\n"
      ],
      "metadata": {
        "id": "qYBXALFkBFir",
        "colab": {
          "base_uri": "https://localhost:8080/"
        },
        "outputId": "c82f32e5-2a2d-4a97-9c32-00982069d1d6"
      },
      "execution_count": 48,
      "outputs": [
        {
          "output_type": "execute_result",
          "data": {
            "text/plain": [
              "(' Morgan Stanley last week joined a growing list of U',\n",
              " ['Morgan',\n",
              "  'Stanley',\n",
              "  'last',\n",
              "  'week',\n",
              "  'joined',\n",
              "  'a',\n",
              "  'growing',\n",
              "  'list',\n",
              "  'of',\n",
              "  'U'],\n",
              " [' ',\n",
              "  'Morgan',\n",
              "  'Stanley',\n",
              "  'last',\n",
              "  'week',\n",
              "  'joined',\n",
              "  'a',\n",
              "  'growing',\n",
              "  'list',\n",
              "  'of',\n",
              "  'U'],\n",
              " ['Morgan',\n",
              "  'Stanley',\n",
              "  'last',\n",
              "  'week',\n",
              "  'joined',\n",
              "  'a',\n",
              "  'growing',\n",
              "  'list',\n",
              "  'of',\n",
              "  'U'])"
            ]
          },
          "metadata": {},
          "execution_count": 48
        }
      ]
    },
    {
      "cell_type": "markdown",
      "source": [
        "# 3. Πίνακας με τα 20 πιο συχνά Types"
      ],
      "metadata": {
        "id": "RgP1Y-UwBC6r"
      }
    },
    {
      "cell_type": "markdown",
      "source": [
        "Ακολουθεί η ανάλυση για τις 20 πιο συχνές λέξεις (types) για κάθε μέθοδο tokenization, ταξινομημένες κατά φθίνουσα συχνότητα."
      ],
      "metadata": {
        "id": "CWnNx7A3Nzr3"
      }
    },
    {
      "cell_type": "code",
      "source": [
        "from collections import Counter\n",
        "\n",
        "# Υπολογισμός συχνοτήτων\n",
        "freq_nltk = Counter(tokens_nltk)\n",
        "freq_spacy = Counter(tokens_spacy)\n",
        "freq_bert = Counter(tokens_bert)\n",
        "\n",
        "# 20 πιο συχνά types για κάθε μέθοδο\n",
        "top_20_nltk = freq_nltk.most_common(20)\n",
        "top_20_spacy = freq_spacy.most_common(20)\n",
        "top_20_bert = freq_bert.most_common(20)\n",
        "\n",
        "top_20_nltk, top_20_spacy, top_20_bert\n"
      ],
      "metadata": {
        "id": "OMxqFgT1BXCs",
        "colab": {
          "base_uri": "https://localhost:8080/"
        },
        "outputId": "86fe8e37-76fa-4936-c120-dc3af43cf9af"
      },
      "execution_count": 49,
      "outputs": [
        {
          "output_type": "execute_result",
          "data": {
            "text/plain": [
              "([(',', 4823),\n",
              "  ('the', 4041),\n",
              "  ('.', 3819),\n",
              "  ('of', 2312),\n",
              "  ('to', 2157),\n",
              "  ('a', 1857),\n",
              "  ('in', 1563),\n",
              "  ('and', 1489),\n",
              "  (\"''\", 959),\n",
              "  (\"'s\", 863),\n",
              "  ('for', 815),\n",
              "  ('that', 807),\n",
              "  ('The', 714),\n",
              "  ('$', 708),\n",
              "  ('is', 671),\n",
              "  ('said', 627),\n",
              "  ('on', 489),\n",
              "  ('it', 475),\n",
              "  ('%', 446),\n",
              "  ('by', 427)],\n",
              " [(',', 4823),\n",
              "  ('the', 4047),\n",
              "  ('.', 3761),\n",
              "  ('of', 2313),\n",
              "  ('to', 2162),\n",
              "  ('a', 1868),\n",
              "  ('in', 1576),\n",
              "  ('and', 1496),\n",
              "  (\"''\", 1372),\n",
              "  ('-', 1231),\n",
              "  (\"'s\", 863),\n",
              "  ('for', 815),\n",
              "  ('that', 807),\n",
              "  ('The', 714),\n",
              "  ('$', 702),\n",
              "  ('is', 671),\n",
              "  ('said', 627),\n",
              "  ('on', 491),\n",
              "  ('it', 476),\n",
              "  ('%', 444)],\n",
              " [('.', 6363),\n",
              "  (',', 5026),\n",
              "  (\"'\", 4117),\n",
              "  ('the', 4049),\n",
              "  ('of', 2314),\n",
              "  ('to', 2167),\n",
              "  ('a', 1927),\n",
              "  ('-', 1733),\n",
              "  ('in', 1600),\n",
              "  ('and', 1498),\n",
              "  ('s', 932),\n",
              "  ('for', 815),\n",
              "  ('that', 807),\n",
              "  ('The', 715),\n",
              "  ('$', 708),\n",
              "  ('##s', 686),\n",
              "  ('is', 628),\n",
              "  ('said', 627),\n",
              "  ('on', 492),\n",
              "  ('it', 476)])"
            ]
          },
          "metadata": {},
          "execution_count": 49
        }
      ]
    },
    {
      "cell_type": "markdown",
      "source": [
        "# 4. Ποσοστά των Types που εμφανίζονται 1, 2, ή 3 φορές\n"
      ],
      "metadata": {
        "id": "d793K3AEBa4d"
      }
    },
    {
      "cell_type": "markdown",
      "source": [
        "Υπολογίζουμε τα ποσοστά των types που εμφανίζονται ακριβώς μία, δύο ή τρεις φορές, και τα συγκρίνουμε με τις προβλέψεις του Νόμου του Zipf."
      ],
      "metadata": {
        "id": "CQn59gKaN3Gf"
      }
    },
    {
      "cell_type": "code",
      "source": [
        "def calculate_percentages(freq):\n",
        "    one_time = sum(1 for count in freq.values() if count == 1)\n",
        "    two_times = sum(1 for count in freq.values() if count == 2)\n",
        "    three_times = sum(1 for count in freq.values() if count == 3)\n",
        "\n",
        "    total_types = len(freq)\n",
        "    return {\n",
        "        '1 time': one_time / total_types * 100,\n",
        "        '2 times': two_times / total_types * 100,\n",
        "        '3 times': three_times / total_types * 100,\n",
        "    }\n",
        "\n",
        "# Υπολογισμός για κάθε μέθοδο\n",
        "percentages_nltk = calculate_percentages(freq_nltk)\n",
        "percentages_spacy = calculate_percentages(freq_spacy)\n",
        "percentages_bert = calculate_percentages(freq_bert)\n",
        "\n",
        "percentages_nltk, percentages_spacy, percentages_bert\n"
      ],
      "metadata": {
        "id": "l4Koz2gLBuQv",
        "colab": {
          "base_uri": "https://localhost:8080/"
        },
        "outputId": "dd32fbfd-4050-4a03-9b35-42a7bafee48f"
      },
      "execution_count": 50,
      "outputs": [
        {
          "output_type": "execute_result",
          "data": {
            "text/plain": [
              "({'1 time': 52.11666666666667,\n",
              "  '2 times': 15.25,\n",
              "  '3 times': 7.5249999999999995},\n",
              " {'1 time': 50.06534808747931,\n",
              "  '2 times': 15.596410211727804,\n",
              "  '3 times': 7.702361244227586},\n",
              " {'1 time': 37.51217611533216,\n",
              "  '2 times': 16.793298266121177,\n",
              "  '3 times': 9.244106760179232})"
            ]
          },
          "metadata": {},
          "execution_count": 50
        }
      ]
    },
    {
      "cell_type": "markdown",
      "source": [
        "# 5. Διάγραμμα του Νόμου του Zipf"
      ],
      "metadata": {
        "id": "0FFSMdiABxNq"
      }
    },
    {
      "cell_type": "markdown",
      "source": [
        "Δημιουργούμε ένα διάγραμμα που συγκρίνει τις πραγματικές συχνότητες των types με τις προβλέψεις του Νόμου του Zipf για διαφορετικές τιμές του παράγοντα\n",
        "𝛼."
      ],
      "metadata": {
        "id": "aYfGLsMaN8ZX"
      }
    },
    {
      "cell_type": "code",
      "source": [
        "import matplotlib.pyplot as plt\n",
        "import numpy as np\n",
        "\n",
        "# Λογαριθμικές συχνότητες\n",
        "def zipf_predictions(alpha):\n",
        "    ranks = np.arange(1, len(freq_nltk) + 1)\n",
        "    frequencies = alpha / ranks\n",
        "    return frequencies\n",
        "\n",
        "# Δημιουργία διαγράμματος\n",
        "ranks = np.arange(1, len(freq_nltk) + 1)\n",
        "actual_frequencies_nltk = [count for _, count in freq_nltk.most_common(len(freq_nltk))]\n",
        "\n",
        "plt.figure(figsize=(10,6))\n",
        "plt.plot(ranks, actual_frequencies_nltk, label='Actual Frequencies', color='blue')\n",
        "plt.plot(ranks, zipf_predictions(0.1), label='Zipf Prediction (α=0.1)', color='red', linestyle='dashed')\n",
        "plt.plot(ranks, zipf_predictions(0.3), label='Zipf Prediction (α=0.3)', color='green', linestyle='dashed')\n",
        "plt.plot(ranks, zipf_predictions(0.5), label='Zipf Prediction (α=0.5)', color='purple', linestyle='dashed')\n",
        "\n",
        "plt.xscale('log')\n",
        "plt.yscale('log')\n",
        "plt.xlabel('Rank')\n",
        "plt.ylabel('Frequency')\n",
        "plt.legend()\n",
        "plt.show()\n"
      ],
      "metadata": {
        "id": "fPpBJsdUBz6A",
        "colab": {
          "base_uri": "https://localhost:8080/",
          "height": 548
        },
        "outputId": "cb71d764-b19a-4e48-82fd-8398cb7ef9f6"
      },
      "execution_count": 51,
      "outputs": [
        {
          "output_type": "display_data",
          "data": {
            "text/plain": [
              "<Figure size 1000x600 with 1 Axes>"
            ],
            "image/png": "[encoded data removed]"
          },
          "metadata": {}
        }
      ]
    },
    {
      "cell_type": "code",
      "source": [],
      "metadata": {
        "id": "vohJm6meWMEU"
      },
      "execution_count": null,
      "outputs": []
    }
  ]
}